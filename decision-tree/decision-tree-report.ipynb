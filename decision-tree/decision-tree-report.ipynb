{
 "cells": [
  {
   "cell_type": "markdown",
   "source": [
    "**Decision Trees Report**\n",
    "Dawid Stasiak 148112\n",
    "Milosz Matuszewski 148185\n"
   ],
   "metadata": {
    "collapsed": false
   }
  },
  {
   "cell_type": "code",
   "execution_count": 118,
   "outputs": [
    {
     "name": "stdout",
     "output_type": "stream",
     "text": [
      "Requirement already satisfied: pydot-ng in /Users/mmatuszewski/Desktop/snum-2023/venv/lib/python3.10/site-packages (2.0.0)\r\n",
      "Requirement already satisfied: pyparsing>=2.0.1 in /Users/mmatuszewski/Desktop/snum-2023/venv/lib/python3.10/site-packages (from pydot-ng) (3.1.1)\r\n",
      "\r\n",
      "\u001B[1m[\u001B[0m\u001B[34;49mnotice\u001B[0m\u001B[1;39;49m]\u001B[0m\u001B[39;49m A new release of pip is available: \u001B[0m\u001B[31;49m23.2.1\u001B[0m\u001B[39;49m -> \u001B[0m\u001B[32;49m23.3\u001B[0m\r\n",
      "\u001B[1m[\u001B[0m\u001B[34;49mnotice\u001B[0m\u001B[1;39;49m]\u001B[0m\u001B[39;49m To update, run: \u001B[0m\u001B[32;49mpip install --upgrade pip\u001B[0m\r\n",
      "Note: you may need to restart the kernel to use updated packages.\n"
     ]
    }
   ],
   "source": [
    "%pip install pydot-ng\n",
    "import math\n",
    "\n",
    "import pandas as pd\n",
    "import pydot\n",
    "import graphviz"
   ],
   "metadata": {
    "collapsed": false,
    "ExecuteTime": {
     "end_time": "2023-10-24T17:55:14.115620Z",
     "start_time": "2023-10-24T17:55:12.477487Z"
    }
   }
  },
  {
   "cell_type": "markdown",
   "source": [
    "**Obliczanie entropii**\n",
    "Pierwszym krokiem było obliczenie entropii dla całego zbioru danych. W tym celu należało obliczyć prawdopodobieństwo wystąpienia każdej z klas. Następnie należało obliczyć entropię dla każdej z klas. Ostateczna entropia została obliczona jako suma iloczynów prawdopodobieństwa wystąpienia danej klasy i entropii dla tej klasy."
   ],
   "metadata": {
    "collapsed": false
   }
  },
  {
   "cell_type": "code",
   "execution_count": 119,
   "metadata": {
    "collapsed": true,
    "ExecuteTime": {
     "end_time": "2023-10-24T17:55:14.120466Z",
     "start_time": "2023-10-24T17:55:14.118710Z"
    }
   },
   "outputs": [],
   "source": [
    "def calculate_entropy(data):\n",
    "    classes = data[\"Survived\"].unique()\n",
    "    entropy = 0\n",
    "    total_samples = len(data)\n",
    "\n",
    "    for c in classes:\n",
    "        p = len(data[data[\"Survived\"] == c]) / total_samples\n",
    "        entropy += -p * math.log2(p)\n",
    "\n",
    "    return entropy"
   ]
  },
  {
   "cell_type": "markdown",
   "source": [
    "**Obliczanie entropii warunkowej**\n",
    "Następnie została obliczona entropia warunkowa dla każdego z atrybutów. Entropia warunkowa została obliczona jako suma iloczynów prawdopodobieństwa wystąpienia danej wartości atrybutu i entropii dla tej wartości."
   ],
   "metadata": {
    "collapsed": false
   }
  },
  {
   "cell_type": "code",
   "execution_count": 120,
   "outputs": [],
   "source": [
    "def calculate_conditional_entropy(data, attribute):\n",
    "    conditional_entropy = 0\n",
    "\n",
    "    for value in data[attribute].unique():\n",
    "        subset = data[data[attribute] == value]\n",
    "        p_value = len(subset) / len(data)\n",
    "        conditional_entropy += p_value * calculate_entropy(subset)\n",
    "\n",
    "    return conditional_entropy"
   ],
   "metadata": {
    "collapsed": false,
    "ExecuteTime": {
     "end_time": "2023-10-24T17:55:14.124187Z",
     "start_time": "2023-10-24T17:55:14.122571Z"
    }
   }
  },
  {
   "cell_type": "markdown",
   "source": [
    "**Obliczanie information gain**\n",
    "Następnie został obliczony information gain dla każdego z atrybutów. Information gain został obliczony jako różnica entropii całego zbioru danych i entropii warunkowej dla danego atrybutu."
   ],
   "metadata": {
    "collapsed": false
   }
  },
  {
   "cell_type": "code",
   "execution_count": 121,
   "outputs": [],
   "source": [
    "def calculate_information_gain(data, attribute):\n",
    "    return calculate_entropy(data) - calculate_conditional_entropy(data, attribute)"
   ],
   "metadata": {
    "collapsed": false,
    "ExecuteTime": {
     "end_time": "2023-10-24T17:55:14.128464Z",
     "start_time": "2023-10-24T17:55:14.126661Z"
    }
   }
  },
  {
   "cell_type": "markdown",
   "source": [
    "**Obliczanie gain ratio**\n",
    "Następnie został obliczony gain ratio dla każdego z atrybutów. Gain ratio został obliczony jako iloraz information gain i entropii warunkowej dla danego atrybutu."
   ],
   "metadata": {
    "collapsed": false
   }
  },
  {
   "cell_type": "code",
   "execution_count": 122,
   "outputs": [],
   "source": [
    "def calculate_gain_ratio(data, attribute):\n",
    "    info_gain = calculate_information_gain(data, attribute)\n",
    "    split_info = -sum(\n",
    "        (len(data[data[attribute] == value]) / len(data))\n",
    "        * math.log2(len(data[data[attribute] == value]) / len(data))\n",
    "        for value in data[attribute].unique()\n",
    "    )\n",
    "\n",
    "    return info_gain / split_info"
   ],
   "metadata": {
    "collapsed": false,
    "ExecuteTime": {
     "end_time": "2023-10-24T17:55:14.132183Z",
     "start_time": "2023-10-24T17:55:14.130565Z"
    }
   }
  },
  {
   "cell_type": "markdown",
   "source": [
    "**Tworzenie drzewa decyzyjnego**\n",
    "Przy pomocy utworzonych wsześniej funkcji zostało stworzone drzewo decyzyjne dla podanego zbioru danych"
   ],
   "metadata": {
    "collapsed": false
   }
  },
  {
   "cell_type": "code",
   "execution_count": 123,
   "outputs": [],
   "source": [
    "def build_decision_tree(data, depth=0):\n",
    "    if len(data[\"Survived\"].unique()) == 1:\n",
    "        return {}\n",
    "\n",
    "    if depth >= 5:\n",
    "        return {}\n",
    "\n",
    "    best_attribute = max(data.columns[:-1], key=lambda a: calculate_gain_ratio(data, a))\n",
    "    tree = {best_attribute: {}}\n",
    "\n",
    "    for value in data[best_attribute].unique():\n",
    "        subset = data[data[best_attribute] == value]\n",
    "        subset = subset.drop(columns=[best_attribute])\n",
    "        subtree = build_decision_tree(subset, depth + 1)\n",
    "        subtree[\"survived\"] = len(subset[subset[\"Survived\"] == 1])\n",
    "        subtree[\"not survived\"] = len(subset[subset[\"Survived\"] == 0])\n",
    "        tree[best_attribute][str(value)] = subtree\n",
    "\n",
    "    return tree"
   ],
   "metadata": {
    "collapsed": false,
    "ExecuteTime": {
     "end_time": "2023-10-24T17:55:14.149585Z",
     "start_time": "2023-10-24T17:55:14.135739Z"
    }
   }
  },
  {
   "cell_type": "markdown",
   "source": [
    "**Wizualizacja drzewa decyzyjnego**\n",
    "Ostatnim krokiem bylo stworzenie funckji do wizualizacji drzewa decyzyjnego. W tym celu została wykorzystana biblioteka pydot."
   ],
   "metadata": {
    "collapsed": false
   }
  },
  {
   "cell_type": "code",
   "execution_count": 124,
   "outputs": [],
   "source": [
    "graph = pydot.Dot(graph_type='graph')\n",
    "\n",
    "def draw(tree, parent=None):\n",
    "    if len(tree.keys()) == 2:\n",
    "        return\n",
    "    node_name = list(tree.keys())[0]\n",
    "    if parent is not None:\n",
    "        node = pydot.Node(name=parent.get_name() + node_name, label=node_name, shape=\"box\")\n",
    "    else:\n",
    "        node = pydot.Node(name=node_name, label=node_name, shape=\"box\")\n",
    "    graph.add_node(node)\n",
    "    if parent is not None:\n",
    "        graph.add_edge(pydot.Edge(parent, node))\n",
    "    for k, v in tree[node_name].items():\n",
    "        k_node = pydot.Node(name=node.get_name() + k,\n",
    "                            label=k + \"\\nSurvived: \" + str(v[\"survived\"]) + \"\\nNot survived: \" + str(v[\"not survived\"]),\n",
    "                            shape=\"box\")\n",
    "        graph.add_node(k_node)\n",
    "        graph.add_edge(pydot.Edge(node, k_node))\n",
    "        draw(v, parent=k_node)"
   ],
   "metadata": {
    "collapsed": false,
    "ExecuteTime": {
     "end_time": "2023-10-24T17:55:14.149920Z",
     "start_time": "2023-10-24T17:55:14.143512Z"
    }
   }
  },
  {
   "cell_type": "markdown",
   "source": [
    "**Wczytanie, przygotowanie danych i wywołanie funkcji**"
   ],
   "metadata": {
    "collapsed": false
   }
  },
  {
   "cell_type": "code",
   "execution_count": 125,
   "outputs": [],
   "source": [
    "data = pd.read_csv(\"titanic-homework.csv\")\n",
    "data = data.drop(columns=[\"PassengerId\", \"Name\"])\n",
    "\n",
    "data[\"Age\"] = pd.cut(\n",
    "    data[\"Age\"],\n",
    "    bins=[0, 20, 40, 100],\n",
    "    labels=[\"young\", \"middle\", \"old\"],\n",
    "    right=False,\n",
    ")\n",
    "decision_tree = build_decision_tree(data)\n",
    "\n",
    "\n",
    "draw(decision_tree)\n",
    "graph.write_png('graph.png')\n"
   ],
   "metadata": {
    "collapsed": false,
    "ExecuteTime": {
     "end_time": "2023-10-24T17:55:14.599685Z",
     "start_time": "2023-10-24T17:55:14.149251Z"
    }
   }
  },
  {
   "cell_type": "code",
   "execution_count": 125,
   "outputs": [],
   "source": [],
   "metadata": {
    "collapsed": false,
    "ExecuteTime": {
     "end_time": "2023-10-24T17:55:14.602285Z",
     "start_time": "2023-10-24T17:55:14.599962Z"
    }
   }
  }
 ],
 "metadata": {
  "kernelspec": {
   "display_name": "Python 3",
   "language": "python",
   "name": "python3"
  },
  "language_info": {
   "codemirror_mode": {
    "name": "ipython",
    "version": 2
   },
   "file_extension": ".py",
   "mimetype": "text/x-python",
   "name": "python",
   "nbconvert_exporter": "python",
   "pygments_lexer": "ipython2",
   "version": "2.7.6"
  }
 },
 "nbformat": 4,
 "nbformat_minor": 0
}
